{
 "cells": [
  {
   "cell_type": "code",
   "execution_count": 416,
   "metadata": {},
   "outputs": [],
   "source": [
    "# Application of using multiple linear regression to predict the weight each person lose after the Diet program."
   ]
  },
  {
   "cell_type": "code",
   "execution_count": 417,
   "metadata": {},
   "outputs": [],
   "source": [
    "import numpy as np\n",
    "import matplotlib.pyplot as plt\n",
    "import math\n",
    "import random\n",
    "import time\n",
    "from statistics import mean\n",
    "from sklearn import linear_model\n",
    "from sklearn.metrics import r2_score\n",
    "import tensorflow as tf\n",
    "import csv"
   ]
  },
  {
   "cell_type": "code",
   "execution_count": 418,
   "metadata": {},
   "outputs": [],
   "source": [
    "k=0\n",
    "\n",
    "datasets=[]\n",
    "\n",
    "#Datasets from\n",
    "#https://www.sheffield.ac.uk/polopoly_fs/1.570199!/file/stcp-Rdataset-Diet.csv\n",
    "\n",
    "with open('stcp-Rdataset-Diet.csv') as csvfile:\n",
    "    reader = csv.DictReader(csvfile)\n",
    "    for row in reader:\n",
    "        if k>=2:\n",
    "            datasets.append(row)\n",
    "        k+=1"
   ]
  },
  {
   "cell_type": "code",
   "execution_count": 419,
   "metadata": {},
   "outputs": [],
   "source": [
    "my_input=[]\n",
    "my_output=[]\n",
    "\n",
    "for data in datasets:\n",
    "    age=(int(data['Age']))\n",
    "    gender=int(data['gender'])\n",
    "    height=(int(data['Height']))\n",
    "    pre_weight=float(data['pre.weight'])\n",
    "    post_weight=float(data['weight6weeks'])\n",
    "    my_input.append([age,height,pre_weight])\n",
    "    my_output.append(post_weight)"
   ]
  },
  {
   "cell_type": "code",
   "execution_count": 420,
   "metadata": {},
   "outputs": [
    {
     "name": "stdout",
     "output_type": "stream",
     "text": [
      "Coefficients: [ 0.01654078  0.0287088   0.95409628]\n",
      "R-squared: 90.69%\n"
     ]
    }
   ],
   "source": [
    "clf = linear_model.LinearRegression()\n",
    "clf.fit(my_input,my_output)\n",
    "clf.coef_\n",
    "print(\"Coefficients: \"+str((clf.coef_)))\n",
    "r_square=clf.score(my_input, my_output)\n",
    "print(\"R-squared: \"+str(round(100*r_square,2))+\"%\")\n",
    "\n",
    "#The higher amount of Age and Height he/she has, the lower weight he/she lose"
   ]
  },
  {
   "cell_type": "code",
   "execution_count": 421,
   "metadata": {},
   "outputs": [
    {
     "data": {
      "text/plain": [
       "Text(0.5,1,'The value of actual weights and predicted weights')"
      ]
     },
     "execution_count": 421,
     "metadata": {},
     "output_type": "execute_result"
    },
    {
     "data": {
      "image/png": "[encoded data removed]",
      "text/plain": [
       "<matplotlib.figure.Figure at 0x255a85fecf8>"
      ]
     },
     "metadata": {},
     "output_type": "display_data"
    }
   ],
   "source": [
    "coef=clf.coef_\n",
    "my_predict=clf.predict(my_input)\n",
    "plt.scatter(my_output,my_predict)\n",
    "plt.xlabel(\"Actual weights\")\n",
    "plt.ylabel(\"Predicted weights\")\n",
    "plt.title(\"The value of actual weights and predicted weights\")"
   ]
  },
  {
   "cell_type": "code",
   "execution_count": 422,
   "metadata": {},
   "outputs": [
    {
     "name": "stdout",
     "output_type": "stream",
     "text": [
      "My predicted weight after Diet is 51.54 kg\n"
     ]
    }
   ],
   "source": [
    "my_age=24\n",
    "my_height=169\n",
    "my_weight=55\n",
    "my_body=[my_age,my_height,my_weight]\n",
    "my_predict_weight=clf.predict([my_body])[0]\n",
    "print(\"My predicted weight after Diet is \"+str(round(my_predict_weight,2))+\" kg\")"
   ]
  }
 ],
 "metadata": {
  "kernelspec": {
   "display_name": "Python 3",
   "language": "python",
   "name": "python3"
  },
  "language_info": {
   "codemirror_mode": {
    "name": "ipython",
    "version": 3
   },
   "file_extension": ".py",
   "mimetype": "text/x-python",
   "name": "python",
   "nbconvert_exporter": "python",
   "pygments_lexer": "ipython3",
   "version": "3.5.4"
  }
 },
 "nbformat": 4,
 "nbformat_minor": 2
}
